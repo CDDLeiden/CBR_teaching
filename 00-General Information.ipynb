{
 "cells": [
  {
   "cell_type": "markdown",
   "metadata": {},
   "source": [
    "# Assignments:\n",
    "The goal of this course is to design a new ligand for the target that was assigned to you. You will work in groups. This ligand should dock with more favourable docking score than the co-crystalized ligand. You will reach this goal by executing a bio-informatics part, a chem-informatics part, and finally perform docking.\n",
    "\n",
    "#### Measurement Report:\n",
    "The results from your practical work are to be written down in a measurement report, which is to be handed in on Monday the 6th of October. This report should contain answers to the questions from the manual, and descriptions of what you did during the course (your train of thought). Naturally you should also include name, student number, etc.\n",
    "\n",
    "#### Presentation:\n",
    "In addition, you are to hold a presentation on these subjects on Thursday the 2nd of October (afternoon). The presentation should last ~10 minutes with some subsequent discussion. In the presentation you should provide a background of your drug target and drug (type, pathology etc.). There should be some results from the QSAR modeling and several docked poses. You should present your newly designed drug and defend why it is better.\n",
    "\n",
    "The practical consists of three parts, which each have their own Jupyter notebook with instructions and the code to run:\n",
    "\n",
    "- Intro to cheminformatics\n",
    "- Machine learning and QSAR\n",
    "- Working with crystal structures\n",
    "\n",
    "Update the notebooks to use your target of interest (PDB code) and run them through. This will prepare a machine learning model and a 3D structure for docking."
   ]
  },
  {
   "cell_type": "markdown",
   "metadata": {},
   "source": [
    "#### Targets\n",
    "\n",
    "Register yourself as a group in the following document (Name and student number):\n",
    "\n",
    "https://docs.google.com/spreadsheets/d/1HdXoFeSO5O3iKUDgTueULswF_AtK2I0CYPngRUDan9g/edit?usp=sharing\n",
    "\n",
    "The following table details the targets that each group will work with.<br/>\n",
    "\n",
    "| Group | Target | Protein Name                                | UniProt Accession | UniProt Entry Name | Protein ChEMBL ID |\n",
    "|:-----:|:------:|---------------------------------------------|-------------------|--------------------|-------------------|\n",
    "|   1   |  3IGP  | Carbonic anhydrase                          | P00918            | CAH2_HUMAN         | CHEMBL205         |\n",
    "|   2   |  1HVY  | Thymidylate synthase                        | P04818            | TYSY_HUMAN         | CHEMBL1952        |\n",
    "|   3   |  3RZE  | Histamine H1 Antagonist                     | P35367            | HRH1_HUMAN         | CHEMBL231         |\n",
    "|   4   |  1OPL  | Proto-oncogene tyrosine-protein kinase ABL1 | P00519            | ABL1_HUMAN         | CHEMBL1862        |\n",
    "|   5   |  5IU4  | A2A receptor                                | P29274            | AA2AR_HUMAN        | CHEMBL251         |\n",
    "|   6   |  3NY8  | Beta2 receptor                              | P07550            | ADRB2_HUMAN        | CHEMBL210         |\n",
    "|   7   |  3CCT  | HMG-CoA reductase                           | P04035            | HMDH_HUMAN         | CHEMBL402         |\n",
    "|   8   |  5F1A  | Cyclo-oxygenase 2                           | P35354            | PGH2_HUMAN         | CHEMBL230         |\n",
    "|   9   |  3EIG  | Dihydrofolate reductase                     | P00374            | DYR_HUMAN          | CHEMBL202         |\n",
    "|   10  |  5UEN  | A1 receptor                                 | P30542            | AA1R_HUMAN         | CHEMBL226         |\n",
    "|   11  |  8HDO  | A2B receptor                                | P29275            | AA2BR_HUMAN        | CHEMBL255         |\n",
    "|   12  |  6LUQ  | D2 Dopamine receptor                        | P14416            | DRD2_HUMAN         | CHEMBL217         |"
   ]
  }
 ],
 "metadata": {
  "kernelspec": {
   "display_name": "Python 3 (ipykernel)",
   "language": "python",
   "name": "python3"
  },
  "language_info": {
   "codemirror_mode": {
    "name": "ipython",
    "version": 3
   },
   "file_extension": ".py",
   "mimetype": "text/x-python",
   "name": "python",
   "nbconvert_exporter": "python",
   "pygments_lexer": "ipython3",
   "version": "3.12.11"
  }
 },
 "nbformat": 4,
 "nbformat_minor": 4
}
