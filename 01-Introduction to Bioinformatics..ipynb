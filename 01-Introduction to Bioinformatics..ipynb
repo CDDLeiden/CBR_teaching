{
 "cells": [
  {
   "cell_type": "markdown",
   "metadata": {},
   "source": [
    "Before getting started, we need to import Python libraries, which consist of functionalities stored as functions.\n",
    "\n",
    "For instance we will use BioPython. https://biopython.org/docs/1.75/api/Bio.html\n",
    "\n",
    "You will see these import throughout the Notebooks of this course materials.<br/>\n",
    "Make sure to always ensure these are being run."
   ]
  },
  {
   "cell_type": "code",
   "execution_count": null,
   "metadata": {
    "ExecuteTime": {
     "end_time": "2025-09-15T06:44:15.867753Z",
     "start_time": "2025-09-15T06:44:13.996344Z"
    }
   },
   "outputs": [],
   "source": [
    "import os\n",
    "import nglview\n",
    "import shutil\n",
    "from Bio.PDB import PDBList, MMCIFParser, Select, PDBIO\n",
    "import os\n",
    "from pathlib import Path\n",
    "\n",
    "# local scripts\n",
    "from scripts import viewer\n",
    "from scripts.bio_align import *"
   ]
  },
  {
   "cell_type": "markdown",
   "metadata": {},
   "source": [
    "We will now create a folder in which all the data will be stored."
   ]
  },
  {
   "cell_type": "code",
   "execution_count": null,
   "metadata": {},
   "outputs": [],
   "source": [
    "HOMEDIR = str(Path(_dh[0]))\n",
    "os.chdir(HOMEDIR)\n",
    "# We need to check whether the directory is there\n",
    "try:\n",
    "    os.mkdir('Bioinformatics')\n",
    "except:\n",
    "    print(\"Directory already exists\")\n",
    "os.chdir('Bioinformatics')"
   ]
  },
  {
   "cell_type": "markdown",
   "metadata": {},
   "source": [
    "# Bioinformatics\n",
    "\n",
    "### Analyzing your Drug target\n",
    "\n",
    "It is important to get a good feeling for the target you are about to study. This is where literature research comes into play. A good starting point is the original publication that your PDB code refers to. This will also give you further references. In addition, general reviews (Pubmed, Google Scholar) can be very helpful.\n",
    "\n",
    "1.\tDescribe the target (your report should contain at least the following information):\n",
    "-\tPathology (why are we interested in the target?)\n",
    "-\tClinical drugs available (which drugs are on the market)\n",
    " \tAlso use ATC information to further describe the drugs.\n",
    "-\tProtein information (what family of proteins is the target a member off, where is it located in the body?)\n",
    "\n",
    "### Related proteins (off-targets), based on sequence\n",
    "\n",
    "Using Bio-informatics we are going to compare the target to other proteins. We use the primary structure (sequence) of the protein for this. Go to: http://www.uniprot.org/\n",
    "\n",
    "2.\tYou can find the link to Uniprot on the sequence tab on the page of your target on https://www.rcsb.org/\n",
    "\n",
    "3.\tAlternatively, find the name of the target in the ‘Protein Knowledgebase’ (UniprotKB). From the list of hits you should select the correct one.\n",
    "\n",
    "4.\tVerify the ‘Accession’ number with your supervisor. Yellow stars means that it is a correct and reviewed target, use a reviewed one unless you are working on H5N1.\n",
    "\n",
    "In the case of the HIV targets, you have to make a sub selection within the POL polyprotein, do this by selecting the relevant domain in the list of domains below on the page.\n",
    "RT -> select the ‘Reverse Transcriptase domain’, ‘Reverse Transcriptase Ribonuclease H’ domain.\n",
    "Protease -> select the ‘Protease domain’\n",
    "\n",
    "5.\tWhen you have found the correct one, copy the following information:\n",
    "    -\tSequence Length / Status / Protein Existence\n",
    "    -\tMass (kDa)\n",
    "\n",
    "6.\tUse BLAST (Basic Local Alignment Search Tool, under ‘Advanced’) to find identical proteins in other species (related target 1).\n",
    "-\tDatabase ‘UniProtKB’, Threshold at 10, Matrix on auto, Filtering on none, Gapped on yes and Hits on 1000. Copy the following information.\n",
    "    -\tLength\n",
    "    -\tIdentity\n",
    "    -\tSpecies\n",
    "\n",
    "7.\tClick on the ‘Accession’ number of the same hit, write the ‘Accession’ number down and copy the following information:\n",
    "-\tStatus / Protein Existence\n",
    "-\tMass (kDa)\n",
    "\n",
    "8.\tUse BLAST to find similar targets in the same species (related target 2).\n",
    "-\tDatabase ‘...Human’, Threshold at 1, Matrix on auto, Filtering on none, Gapped on yes and Hits on 1000. Copy the following information of the first hit that is not an isoform of your target.\n",
    "    -\tLength\n",
    "    -\tIdentity\n",
    "9.\tClick on the ‘Accession’ number of the same hit, write the ‘Accession’ number down and copy the following information:\n",
    "    -\tStatus / Protein Existence\n",
    "    -\tMass (kDa)\n",
    "\n",
    "Questions (1):\n",
    "-\tWhich target is more similar compared to the original target?\n",
    "-\tDid you expect this?\n",
    "\n",
    "Align the 3 proteins on Uniprot using the ‘Accession’ numbers.\n",
    "\n",
    "In the overview, select the following tickboxes: “Similarity, Hydrophobic, Negative, Positive, Aromatic”, scroll down and make a screenshot (for report and presentation). Which targets are ‘more similar’ ?\n",
    "\n",
    "### Related proteins (off-targets), based on structure\n",
    "\n",
    "Since we are in the fortunate position that we have a crystal structure, we are also going to use a 3D similarity search. This is a structural similarity search rather than a sequence similarity search. Now we compare proteins based on their tertiary structure (3D structure)\n",
    "\n",
    "10.\tStart at http://www.rcsb.org/pdb/home/home.do  and find your target using the PDB identifier.\n",
    "11.\tScroll down to ‘macromolecules’.\n",
    "12.\tClick ‘3D Structure’\n",
    "\n",
    "<img src=\"img/LAB00_FIG00.png\" alt=\"RCSB link\" width=\"700\"/>\n",
    "\n",
    "13.\tThe top one should be your protein.\n",
    "-\tWrite down the accession of the next most similar protein.\n",
    "-\tIn the case of a GPCR target, ignore the T4Lysozyme hits."
   ]
  },
  {
   "cell_type": "markdown",
   "metadata": {},
   "source": [
    "# Retrieving a 3D structure\n",
    "\n",
    "14.\tLet's download the cystal structures of your protein of interest and visualize it.\n",
    "\n",
    "    We have used 5IU4 as an example. If you execute the code block below, you will see a viewer with a 3D structure of the protein.\n",
    "\n",
    "You can move around the structure with the mouse. Scrolling will zoom in/out, with the left mouse button you can rotate the structure. If you click the scrolling wheel you can move around the structure (sliding)."
   ]
  },
  {
   "cell_type": "code",
   "execution_count": null,
   "metadata": {
    "ExecuteTime": {
     "end_time": "2025-09-12T14:36:26.477991Z",
     "start_time": "2025-09-12T14:36:26.462998Z"
    }
   },
   "outputs": [],
   "source": [
    "TARGET_PDB_ID = \"5IU4\" # Enter your target PDB code here\n",
    "PDB_CHAIN = 'A'\n",
    "LIGAND_CODE = \"ZMA\" # Enter the ligand code here, example = 'zma'\n",
    "\n",
    "target_pdb_path = download_structure(TARGET_PDB_ID, pdb_format='pdb', chain_id=PDB_CHAIN, ligand_to_keep=LIGAND_CODE)\n",
    "view = nglview.show_structure_file(target_pdb_path, ext='pdb')\n",
    "view.center()\n",
    "view"
   ]
  },
  {
   "cell_type": "markdown",
   "metadata": {},
   "source": [
    "I you see multiple molecules with balls and sticks, ask your TA to help remove one so that only one remains."
   ]
  },
  {
   "cell_type": "markdown",
   "metadata": {},
   "source": [
    "Let's save an image of the current 3D viewer, for your report/project presentation."
   ]
  },
  {
   "cell_type": "code",
   "execution_count": null,
   "metadata": {},
   "outputs": [],
   "source": [
    "view.render_image()"
   ]
  },
  {
   "cell_type": "markdown",
   "metadata": {},
   "source": [
    "15. Now repeat for the most closely related structure. For the previous example, this was 8UGW."
   ]
  },
  {
   "cell_type": "code",
   "execution_count": null,
   "metadata": {
    "ExecuteTime": {
     "end_time": "2025-09-12T14:36:27.831954Z",
     "start_time": "2025-09-12T14:36:27.820026Z"
    }
   },
   "outputs": [],
   "source": [
    "OFF_TARGET_PDB_ID = \"8UGW\" # Enter the PDB code of the structure most similar to your target protein\n",
    "\n",
    "similar_pdb_path = download_structure(OFF_TARGET_PDB_ID, chain_id='A')\n",
    "view = nglview.show_structure_file(similar_pdb_path)\n",
    "view.center()\n",
    "view"
   ]
  },
  {
   "cell_type": "code",
   "execution_count": null,
   "metadata": {},
   "outputs": [],
   "source": [
    "view.render_image()"
   ]
  },
  {
   "cell_type": "markdown",
   "metadata": {},
   "source": [
    "16. Let's align the two structures and visualize how well they do align.\n",
    "- Note the RMSD below."
   ]
  },
  {
   "cell_type": "code",
   "execution_count": null,
   "metadata": {
    "ExecuteTime": {
     "end_time": "2025-09-12T14:37:45.409680Z",
     "start_time": "2025-09-12T14:37:45.315522Z"
    }
   },
   "outputs": [],
   "source": [
    "structure1 = parse_structure(target_pdb_path)\n",
    "structure2 = parse_structure(similar_pdb_path)\n",
    "aligned_fpath, rmsd = AlignCystalStructures.by_coordinates(structure1, structure2)\n",
    "print(f'The RMSD between the two structures is: {rmsd:.2f} Ångströms.')\n",
    "view = nglview.show_structure_file(target_pdb_path)\n",
    "view.add_component(aligned_fpath)\n",
    "view.clear_representations(component=0)\n",
    "view.clear_representations(component=1)\n",
    "view.add_representation(\n",
    "    repr_type='cartoon',\n",
    "    selection='all',\n",
    "    color='#a70f4a',\n",
    "    component=0  # Target the first component\n",
    ")\n",
    "view.add_representation(\n",
    "    repr_type='cartoon',\n",
    "    selection='all',\n",
    "    color='#269bcb',\n",
    "    component=1  # Target the second component\n",
    ")\n",
    "view.center()\n",
    "view\n"
   ]
  },
  {
   "cell_type": "code",
   "execution_count": null,
   "metadata": {},
   "outputs": [],
   "source": [
    "view.render_image()"
   ]
  },
  {
   "cell_type": "markdown",
   "metadata": {},
   "source": [
    "It is nice to have an overview of the structure, but since we are interested in designing new drugs, it makes more sense to have a closer look at the co-crystallized ligand. For this, we need to know the residue name of the ligand. This is a three-letter amino acid code that you can retrieve from the RCSB. In this case, the amino acid code is ZMA. First, we zoom in on the ligand."
   ]
  },
  {
   "cell_type": "code",
   "execution_count": null,
   "metadata": {
    "scrolled": true
   },
   "outputs": [],
   "source": [
    "view = nglview.show_structure_file(target_pdb_path)\n",
    "view.center(LIGAND_CODE)\n",
    "view"
   ]
  },
  {
   "cell_type": "code",
   "execution_count": null,
   "metadata": {
    "scrolled": true
   },
   "outputs": [],
   "source": [
    "view.render_image()"
   ]
  },
  {
   "cell_type": "markdown",
   "metadata": {},
   "source": [
    "Next, let's show the residues that are within 5 Ångstrom of the ligand"
   ]
  },
  {
   "cell_type": "code",
   "execution_count": null,
   "metadata": {},
   "outputs": [],
   "source": [
    "view = nglview.show_structure_file(target_pdb_path)\n",
    "view.center(LIGAND_CODE)\n",
    "viewer.show_residues_around(view, selection=LIGAND_CODE)\n",
    "view"
   ]
  },
  {
   "cell_type": "code",
   "execution_count": null,
   "metadata": {},
   "outputs": [],
   "source": [
    "view.render_image()"
   ]
  },
  {
   "cell_type": "markdown",
   "metadata": {},
   "source": [
    "Have a look at the residues near the ligand, can you observe any important interactions? Describe in your report which interactions you observe, and what type of interactions they are.\n",
    "\n",
    "17. Note that we do not see any hydrogen atoms, do you know why?\n",
    "\n",
    "In the next stage, we will add the hydrogens and have another look at the structure. We will split the protein and ligand and save them separately."
   ]
  },
  {
   "cell_type": "code",
   "execution_count": null,
   "metadata": {},
   "outputs": [],
   "source": [
    "io = PDBIO()\n",
    "io.set_structure(structure1)\n",
    "io.save(f\"ligand-{LIGAND_CODE}.pdb\", ResSelect(LIGAND_CODE))\n",
    "io.save(f\"protein-{TARGET_PDB_ID}.pdb\", NonHetSelect())"
   ]
  },
  {
   "cell_type": "markdown",
   "metadata": {},
   "source": [
    "Now that we have separated ligands and protein, we can start adding hydrogens to the protein. We will use LePro for this, which is part of the LeDock program (https://en.wikipedia.org/wiki/LeDock).\n",
    "\n",
    "21. Prepare the protein:\n",
    "\n",
    "    Hydrogen atoms are added to the structure, because these are normally not resolved in the structure (due to limitations in resolution of the experimental method."
   ]
  },
  {
   "cell_type": "code",
   "execution_count": null,
   "metadata": {},
   "outputs": [],
   "source": [
    "command = f'\"{_dh[0]}/bin/lepro\" protein-{TARGET_PDB_ID}.pdb'\n",
    "os.system(command)\n",
    "shutil.move('pro.pdb', f'{TARGET_PDB_ID}_prepped.pdb')"
   ]
  },
  {
   "cell_type": "code",
   "execution_count": null,
   "metadata": {},
   "outputs": [],
   "source": [
    "# combine protein and ligand files\n",
    "filenames = [f'{TARGET_PDB_ID}_prepped.pdb',\n",
    "             f\"ligand-{LIGAND_CODE}.pdb\"]\n",
    "\n",
    "with open(f'{TARGET_PDB_ID}-complex.pdb', 'w') as outfile:\n",
    "    for fname in filenames:\n",
    "        with open(fname) as infile:\n",
    "            for line in infile:\n",
    "                if not \"END\" in line:\n",
    "                    outfile.write(line)"
   ]
  },
  {
   "cell_type": "markdown",
   "metadata": {},
   "source": [
    "Let's have a look again at the protein"
   ]
  },
  {
   "cell_type": "code",
   "execution_count": null,
   "metadata": {},
   "outputs": [],
   "source": [
    "with open(f'{TARGET_PDB_ID}-complex.pdb') as f:\n",
    "    view = nglview.show_file(f, ext=\"pdb\")\n",
    "\n",
    "view.center(LIGAND_CODE)\n",
    "viewer.show_residues_around(view, selection=LIGAND_CODE)\n",
    "view"
   ]
  },
  {
   "cell_type": "code",
   "execution_count": null,
   "metadata": {},
   "outputs": [],
   "source": [
    "view.render_image()"
   ]
  },
  {
   "cell_type": "markdown",
   "metadata": {},
   "source": [
    "23. Now, we will repeat the procedure for the most similar target that you identified (the highest scoring hit from the PDB):"
   ]
  },
  {
   "cell_type": "code",
   "execution_count": null,
   "metadata": {},
   "outputs": [],
   "source": [
    "OFF_TARGET_LIGAND = \"NGI\"  # Enter the ligand code here, example = 'NGI'\n",
    "\n",
    "io = PDBIO()\n",
    "io.set_structure(structure2)\n",
    "io.save(f\"ligand-{OFF_TARGET_LIGAND}.pdb\", ResSelect(OFF_TARGET_LIGAND))\n",
    "io.save(f\"protein-{OFF_TARGET_PDB_ID}.pdb\", NonHetSelect())"
   ]
  },
  {
   "cell_type": "code",
   "execution_count": null,
   "metadata": {},
   "outputs": [],
   "source": [
    "command = f'\"{_dh[0]}/bin/lepro\" protein-{OFF_TARGET_PDB_ID}.pdb'\n",
    "os.system(command)\n",
    "shutil.move('pro.pdb', f'{OFF_TARGET_PDB_ID}_prepped.pdb')"
   ]
  },
  {
   "cell_type": "code",
   "execution_count": null,
   "metadata": {},
   "outputs": [],
   "source": [
    "# combine protein and ligand files\n",
    "filenames = [f'{OFF_TARGET_PDB_ID}_prepped.pdb',\n",
    "             f\"ligand-{OFF_TARGET_LIGAND}.pdb\"]\n",
    "\n",
    "with open(f'{OFF_TARGET_PDB_ID}-complex.pdb', 'w') as outfile:\n",
    "    for fname in filenames:\n",
    "        with open(fname) as infile:\n",
    "            for line in infile:\n",
    "                if not \"END\" in line:\n",
    "                    outfile.write(line)"
   ]
  },
  {
   "cell_type": "markdown",
   "metadata": {},
   "source": [
    "24. Prepare the protein"
   ]
  },
  {
   "cell_type": "code",
   "execution_count": null,
   "metadata": {},
   "outputs": [],
   "source": [
    "with open(f'{OFF_TARGET_PDB_ID}-complex.pdb') as f:\n",
    "    view = nglview.show_file(f, ext=\"pdb\")\n",
    "\n",
    "view.center(OFF_TARGET_LIGAND)\n",
    "viewer.show_residues_around(view, selection=OFF_TARGET_LIGAND)\n",
    "view"
   ]
  },
  {
   "cell_type": "markdown",
   "metadata": {},
   "source": [
    "25. Now, let's try to align the structures. First we generate the alignment object"
   ]
  },
  {
   "cell_type": "code",
   "execution_count": null,
   "metadata": {},
   "outputs": [],
   "source": [
    "from Bio import pairwise2\n",
    "from Bio.Seq import Seq\n",
    "from Bio.SeqRecord import SeqRecord\n",
    "from Bio.Align import MultipleSeqAlignment\n",
    "\n",
    "import requests\n",
    "data = requests.get(f'https://www.ebi.ac.uk/pdbe/api/pdb/entry/molecules/{TARGET_PDB_ID}').json()[TARGET_PDB_ID.lower()]\n",
    "SEQ1 = (data[0]['sequence'])\n",
    "SEQ1 = Seq(SEQ1)\n",
    "\n",
    "data = requests.get(f'https://www.ebi.ac.uk/pdbe/api/pdb/entry/molecules/{OFF_TARGET_PDB_ID}').json()[OFF_TARGET_PDB_ID.lower()]\n",
    "SEQ2 = (data[0]['sequence'])\n",
    "SEQ2 = Seq(SEQ2)\n",
    "\n",
    "alignments = pairwise2.align.globalxx(SEQ1, SEQ2)\n",
    "\n",
    "for align1, align2, score, begin, end in alignments:\n",
    "    filename = \"alignment.fasta\"\n",
    "    with open(filename, \"w\") as handle:\n",
    "        handle.write(\">SEQ1\\n%s\\n>SEQ2\\n%s\\n\" % (align1, align2))\n",
    "\n",
    "print(alignments[0])"
   ]
  },
  {
   "cell_type": "markdown",
   "metadata": {},
   "source": [
    "You can also align structure using https://www.ncbi.nlm.nih.gov/Structure/icn3d/full.html as you've seen previously.\n",
    "\n",
    "You can also have a look at PLIP, which is a nice interaction profiler as well:\n",
    "https://plip-tool.biotec.tu-dresden.de/plip-web/plip/index\n",
    "\n",
    "Finally, the interaction viewer on rcsb itself is also quite good, just type in your accession code in the search bar, scroll down to the ligand overview and click the ligand interaction box.\n",
    "\n",
    "Toy around a bit with the structures and see if you can get a feeling for the binding site. In particular what kind of interactions seem to be important. Feel free to discuss this with your supervisor as well!\n",
    "\n",
    "Another great way to look at the structure is on the rcsb website itself, where you can go to a 3D viewer of the ligand binding site by clicking on the Ligand interaction button.\n",
    "\n"
   ]
  },
  {
   "cell_type": "markdown",
   "metadata": {},
   "source": [
    "This is the end of the bioinformatics part of the lab, for the report, please add a screenshot of the PLIP viewer. Try to identify key interactions in the binding site, either on the RCSB website or PLIP. Also think already how you might improve the ligand, can you think of additional interactions? The next two days, we will try to optimize the ligand. Tomorrow we will work with QSAR and cheminformatics. The day after we will use docking"
   ]
  }
 ],
 "metadata": {
  "kernelspec": {
   "display_name": "Python 3 (ipykernel)",
   "language": "python",
   "name": "python3"
  },
  "language_info": {
   "codemirror_mode": {
    "name": "ipython",
    "version": 3
   },
   "file_extension": ".py",
   "mimetype": "text/x-python",
   "name": "python",
   "nbconvert_exporter": "python",
   "pygments_lexer": "ipython3",
   "version": "3.12.11"
  }
 },
 "nbformat": 4,
 "nbformat_minor": 4
}
