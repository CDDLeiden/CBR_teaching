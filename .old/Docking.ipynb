{
 "cells": [
  {
   "cell_type": "markdown",
   "metadata": {},
   "source": [
    "# Molecular docking\n",
    "\n",
    "This is the main protocol of Jupyter Dock.\n",
    "\n",
    "## Content of this notebook\n",
    "\n",
    "1. Feching system and cleanup\n",
    "2. Protein and ligand sanitization\n",
    "3. System Visualization \n",
    "4. Docking with AutoDock Vina\n",
    "    - Receptor preparation\n",
    "    - Ligand preparation\n",
    "    - Docking box definition\n",
    "    - Docking\n",
    "    - PDBQT results file conversion to SDF\n",
    "    - 3D visualization of docking results\n",
    "    - 2D interaction table and map\n",
    "5. Docking with LeDock\n",
    "    - Receptor preparation\n",
    "    - Ligand preparation\n",
    "    - Docking box definition\n",
    "    - Docking\n",
    "    - DOK results file conversion to SDF\n",
    "    - 3D visualization of docking results\n",
    "    - 2D interaction table and map"
   ]
  },
  {
   "cell_type": "code",
   "execution_count": 1,
   "metadata": {
    "scrolled": true
   },
   "outputs": [
    {
     "name": "stderr",
     "output_type": "stream",
     "text": [
      "/project/jhllei001/JHL_installations/venvs/Docking/lib/python3.8/site-packages/pybel/struct/operations.py:8: TqdmExperimentalWarning: Using `tqdm.autonotebook.tqdm` in notebook mode. Use `tqdm.tqdm` instead to force console mode (e.g. in jupyter console)\n",
      "  from tqdm.autonotebook import tqdm\n"
     ]
    }
   ],
   "source": [
    "#from pymol import cmd\n",
    "import py3Dmol\n",
    "\n",
    "import sys\n",
    "\n",
    "from vina import Vina\n",
    "import pybel\n",
    "\n",
    "from rdkit import Chem\n",
    "from rdkit.Chem import AllChem, Draw\n",
    "\n",
    "#from meeko import MoleculePreparation\n",
    "#from meeko import obutils\n",
    "\n",
    "import MDAnalysis as mda\n",
    "from MDAnalysis.coordinates import PDB\n",
    "\n",
    "import prolif\n",
    "from prolif.plotting.network import LigNetwork\n",
    "\n",
    "\n",
    "import sys, os\n",
    "sys.path.insert(1, '/project/jhllei001/JHL_data/Jupyter_Dock/utilities')\n",
    "# Note I had to comment out pymol, openmm and pdbfixer, hope it doesn't break later\n",
    "from utils import fix_protein, getbox, generate_ledock_file, pdbqt_to_sdf, dok_to_sdf\n",
    "\n",
    "import warnings\n",
    "warnings.filterwarnings(\"ignore\")\n",
    "%config Completer.use_jedi = False"
   ]
  },
  {
   "cell_type": "markdown",
   "metadata": {},
   "source": [
    "It's a good idea to run the test protocols before attempting custom projects. Later, the user can specify the location of his/her project and save all of the files separately."
   ]
  },
  {
   "cell_type": "code",
   "execution_count": 16,
   "metadata": {},
   "outputs": [],
   "source": [
    "os.chdir('/home/lcur0213/JHL_data/Molecular_Docking-test')"
   ]
  },
  {
   "cell_type": "markdown",
   "metadata": {},
   "source": [
    "## 1. Feching system and cleanup\n",
    "\n",
    "Implementing Pymol is a simple way to download PDB structures. The user can launch this or any other Jupyter Dock's protocol by providing his or her own files."
   ]
  },
  {
   "cell_type": "code",
   "execution_count": null,
   "metadata": {},
   "outputs": [],
   "source": [
    "cmd.fetch(code='1AZ8',type='pdb1')\n",
    "cmd.select(name='Prot',selection='polymer.protein')\n",
    "cmd.select(name='Lig',selection='organic')\n",
    "cmd.save(filename='1AZ8_clean.pdb',format='pdb',selection='Prot')\n",
    "cmd.save(filename='1AZ8_lig.mol2',format='mol2',selection='Lig')\n",
    "cmd.delete('all')"
   ]
  },
  {
   "cell_type": "markdown",
   "metadata": {},
   "source": [
    "## 2. Protein and ligand sanitization"
   ]
  },
  {
   "cell_type": "markdown",
   "metadata": {},
   "source": [
    "### 2.1. Protein Sanitization"
   ]
  },
  {
   "cell_type": "markdown",
   "metadata": {},
   "source": [
    "#### Method 1: LePro\n",
    "\n",
    "The Lephar molecular docking suite includes a very powerful tool for automatically preparing proteins for molecular docking. As a result, for these protocols, it will be the preferred tool for protein preparation. The protein prepared by LePro can be used in AutoDock VIna and LeDock."
   ]
  },
  {
   "cell_type": "code",
   "execution_count": null,
   "metadata": {},
   "outputs": [],
   "source": [
    "!../../bin/lepro_linux_x86 # Launch this cell to see parameters"
   ]
  },
  {
   "cell_type": "code",
   "execution_count": 18,
   "metadata": {},
   "outputs": [],
   "source": [
    "!/home/lcur0213/JHL_installations/lepro_linux_x86 {'1AZ8_clean.pdb'}\n",
    "\n",
    "os.rename('pro.pdb','1AZ8_clean_H.pdb') # Output from lepro is pro.pdb, this line will change the name to '1AZ8_clean_H.pdb'"
   ]
  },
  {
   "cell_type": "markdown",
   "metadata": {},
   "source": [
    "#### Method 2: fix_protein (PDBFixer)\n",
    "\n",
    "For proteins with missing amino acids or residues, or to ensure a more thorough sanitization of protein Jupyter Dock includes the _fix_protein()_ function, which employs PDBFixer to correct a wide range of common errors in protein pdb files. Furthermore, PDBFixer enables the assignment of pH-dependent protonation states to proteins.\n",
    "\n",
    "\n",
    ">**Warning 1:**  It is possible to encounter problems with protein fixing when using **_fix_protein()_** and AutoDock Tools' **_prepare_receptor_** or when running LeDock. To resolve the issue, it is best to set the parameter _-A hydrogens_ in _prepare receptor_.\n",
    "\n",
    "\n",
    ">**Hint:** PDBFixer is a great solution for many systems because it can solve serious problems in PDB files. As a result, PDBFixer renumbers the residues beginning with 1 regardless of the numbering on the original PDB file. To address this issue, the **_fix_protein()_** function includes a protocol for atomically renumbering the residues in accordance with the original PDB file.\n",
    "\n",
    "\n",
    "**_fix_protein ( params )_**\n",
    "\n",
    "Params:\n",
    "      \n",
    "  - **filename**: _str or path-like_ ; input file containing protein struture to be modified, file extrension must be pdb\n",
    "\n",
    "  - **addHs_pH**: _float_ ; Add hydrogens at user defined pH\n",
    "\n",
    "  - **try_renumberResidues**: _bool_ ; By default PDBFixer renumarets residues starting in 1, this option tries to recover originar residues numbering\n",
    "    \n",
    "  - **output**: _str or path-like_ ; output filename, extension must be pdb"
   ]
  },
  {
   "cell_type": "markdown",
   "metadata": {},
   "source": [
    "```\n",
    "fix_protein(filename='1AZ8_clean.pdb',addHs_pH=7.4,try_renumberResidues=True,output='1AZ8_clean_H.pdb')\n",
    "```"
   ]
  },
  {
   "cell_type": "markdown",
   "metadata": {},
   "source": [
    "### 2.2. Ligand sanitization\n",
    "\n",
    "Due to the variability of ligands and formats, ligand sanitization and preparation can be one of the most difficult tasks to complete. Setting protonation states for a ligand, for example, can be difficult. It is highly recommended that the user knows and understands the proper states for his/her ligand(s) when using Jupyter Dock or any other molecular docking approach.\n",
    "\n",
    "In this example, after splitting the ligand and protein after fetching with pymol, the ligand has sanitization problems **(sanitize=False in Chem.MolFromMol2File)**"
   ]
  },
  {
   "cell_type": "code",
   "execution_count": null,
   "metadata": {},
   "outputs": [],
   "source": [
    "m=Chem.MolFromMol2File('1AZ8_lig.mol2',sanitize=False)\n",
    "Draw.MolToImage(m)"
   ]
  },
  {
   "cell_type": "markdown",
   "metadata": {},
   "source": [
    ">**Hint:** One solution for simple sanitization problems is to use OpenBAbel to convert the molecule and add the necessary hydrogens for molecular docking (Pybel). The definitions for carrying out molecules in OpenBabel differ from those in RDKIt. As a result, OpenBabel is capable of handling the conversion."
   ]
  },
  {
   "cell_type": "code",
   "execution_count": null,
   "metadata": {},
   "outputs": [],
   "source": [
    "mol= [m for m in pybel.readfile(filename='1AZ8_lig.mol2',format='mol2')][0]\n",
    "mol.addh()\n",
    "out=pybel.Outputfile(filename='1AZ8_lig_H.mol2',format='mol2',overwrite=True)\n",
    "out.write(mol)\n",
    "out.close()"
   ]
  },
  {
   "cell_type": "markdown",
   "metadata": {},
   "source": [
    "The end result of ligand sanitization is a new molecule that RDKit can display without having to use the sanitization parameter. Furthermore, the output structure for this example corresponds exactly to the one reported in the PDB database (PDB 1AZ8)"
   ]
  },
  {
   "cell_type": "code",
   "execution_count": null,
   "metadata": {},
   "outputs": [],
   "source": [
    "m=Chem.MolFromMol2File('1AZ8_lig_H.mol2')\n",
    "m"
   ]
  },
  {
   "cell_type": "markdown",
   "metadata": {},
   "source": [
    "## 3. System Visualization\n",
    "\n",
    "A cool feature of Jupyter Dock is the posibility of visualize ligand-protein complexes and docking results into the notebbok. All this thanks to the powerful py3Dmol. \n",
    "\n",
    "Now the protein and ligand have been sanitized it would be recomended to vissualize the ligand-protein reference system."
   ]
  },
  {
   "cell_type": "code",
   "execution_count": 3,
   "metadata": {
    "scrolled": false
   },
   "outputs": [
    {
     "ename": "FileNotFoundError",
     "evalue": "[Errno 2] No such file or directory: '1AZ8_clean_H.pdb'",
     "output_type": "error",
     "traceback": [
      "\u001b[0;31m---------------------------------------------------------------------------\u001b[0m",
      "\u001b[0;31mFileNotFoundError\u001b[0m                         Traceback (most recent call last)",
      "\u001b[0;32m<ipython-input-3-3fff1c58b9d8>\u001b[0m in \u001b[0;36m<module>\u001b[0;34m\u001b[0m\n\u001b[1;32m      3\u001b[0m \u001b[0mview\u001b[0m\u001b[0;34m.\u001b[0m\u001b[0msetViewStyle\u001b[0m\u001b[0;34m(\u001b[0m\u001b[0;34m{\u001b[0m\u001b[0;34m'style'\u001b[0m\u001b[0;34m:\u001b[0m\u001b[0;34m'outline'\u001b[0m\u001b[0;34m,\u001b[0m\u001b[0;34m'color'\u001b[0m\u001b[0;34m:\u001b[0m\u001b[0;34m'black'\u001b[0m\u001b[0;34m,\u001b[0m\u001b[0;34m'width'\u001b[0m\u001b[0;34m:\u001b[0m\u001b[0;36m0.1\u001b[0m\u001b[0;34m}\u001b[0m\u001b[0;34m)\u001b[0m\u001b[0;34m\u001b[0m\u001b[0;34m\u001b[0m\u001b[0m\n\u001b[1;32m      4\u001b[0m \u001b[0;34m\u001b[0m\u001b[0m\n\u001b[0;32m----> 5\u001b[0;31m \u001b[0mview\u001b[0m\u001b[0;34m.\u001b[0m\u001b[0maddModel\u001b[0m\u001b[0;34m(\u001b[0m\u001b[0mopen\u001b[0m\u001b[0;34m(\u001b[0m\u001b[0;34m'1AZ8_clean_H.pdb'\u001b[0m\u001b[0;34m,\u001b[0m\u001b[0;34m'r'\u001b[0m\u001b[0;34m)\u001b[0m\u001b[0;34m.\u001b[0m\u001b[0mread\u001b[0m\u001b[0;34m(\u001b[0m\u001b[0;34m)\u001b[0m\u001b[0;34m,\u001b[0m\u001b[0mformat\u001b[0m\u001b[0;34m=\u001b[0m\u001b[0;34m'pdb'\u001b[0m\u001b[0;34m)\u001b[0m\u001b[0;34m\u001b[0m\u001b[0;34m\u001b[0m\u001b[0m\n\u001b[0m\u001b[1;32m      6\u001b[0m \u001b[0mProt\u001b[0m\u001b[0;34m=\u001b[0m\u001b[0mview\u001b[0m\u001b[0;34m.\u001b[0m\u001b[0mgetModel\u001b[0m\u001b[0;34m(\u001b[0m\u001b[0;34m)\u001b[0m\u001b[0;34m\u001b[0m\u001b[0;34m\u001b[0m\u001b[0m\n\u001b[1;32m      7\u001b[0m \u001b[0mProt\u001b[0m\u001b[0;34m.\u001b[0m\u001b[0msetStyle\u001b[0m\u001b[0;34m(\u001b[0m\u001b[0;34m{\u001b[0m\u001b[0;34m'cartoon'\u001b[0m\u001b[0;34m:\u001b[0m\u001b[0;34m{\u001b[0m\u001b[0;34m'arrows'\u001b[0m\u001b[0;34m:\u001b[0m\u001b[0;32mTrue\u001b[0m\u001b[0;34m,\u001b[0m \u001b[0;34m'tubes'\u001b[0m\u001b[0;34m:\u001b[0m\u001b[0;32mTrue\u001b[0m\u001b[0;34m,\u001b[0m \u001b[0;34m'style'\u001b[0m\u001b[0;34m:\u001b[0m\u001b[0;34m'oval'\u001b[0m\u001b[0;34m,\u001b[0m \u001b[0;34m'color'\u001b[0m\u001b[0;34m:\u001b[0m\u001b[0;34m'white'\u001b[0m\u001b[0;34m}\u001b[0m\u001b[0;34m}\u001b[0m\u001b[0;34m)\u001b[0m\u001b[0;34m\u001b[0m\u001b[0;34m\u001b[0m\u001b[0m\n",
      "\u001b[0;31mFileNotFoundError\u001b[0m: [Errno 2] No such file or directory: '1AZ8_clean_H.pdb'"
     ]
    }
   ],
   "source": [
    "view = py3Dmol.view()\n",
    "view.removeAllModels()\n",
    "view.setViewStyle({'style':'outline','color':'black','width':0.1})\n",
    "\n",
    "view.addModel(open('1AZ8_clean_H.pdb','r').read(),format='pdb')\n",
    "Prot=view.getModel()\n",
    "Prot.setStyle({'cartoon':{'arrows':True, 'tubes':True, 'style':'oval', 'color':'white'}})\n",
    "view.addSurface(py3Dmol.VDW,{'opacity':0.6,'color':'white'})\n",
    "\n",
    "\n",
    "view.addModel(open('1AZ8_lig_H.mol2','r').read(),format='mol2')\n",
    "ref_m = view.getModel()\n",
    "ref_m.setStyle({},{'stick':{'colorscheme':'greenCarbon','radius':0.2}})\n",
    "\n",
    "view.zoomTo()\n",
    "view.show()"
   ]
  },
  {
   "cell_type": "markdown",
   "metadata": {},
   "source": [
    "## 4. Docking with AutoDock Vina\n",
    "\n",
    "AutoDock Vina (Vina) is one of the docking engines in the AutoDock Suite, together with AutoDock4 (AD4), AutoDockGPU, AutoDockFR, and AutoDock-CrankPep, and arguably among the most widely used and successful docking engines. The reasons for this success are mostly due to its ease of use and its speed (up to 100x faster than AD4), when compared to the other docking engines in the suite and elsewhere, as well as being open source."
   ]
  },
  {
   "cell_type": "markdown",
   "metadata": {},
   "source": [
    "### 4.1. Protein preparation\n",
    "\n",
    "After sanitization, the protein docking preparation includes converting it to the PDBQT file format, which stores the atomic coordinates, partial charges, and AutoDock atom types for both the receptor and the ligand. \n",
    "\n",
    ">**Hint:** Despite the fact that the PDBQT format includes changes (Q) and atom types (T) for molecular docking. The charges are not required for Autodock Vina, which computes electrostatic interactions using its own force field. Although, when using AutoDock instead of AutoDock Vina, the Q term is required. More information can be found here:https://autodock-vina.readthedocs.io/en/latest/introduction.html\n",
    "\n",
    "#### Method 1: AutoDock Tools prepare_receptor\n",
    "\n",
    "The AutoDock Tools are the best way to prepare the receptor for AutoDock Vina. Nonetheless, AutoDock Tools is a comprehensive suite of programs and scripts that are difficult to manage. Jupyter Dock execute the **_prepare receptor_** and **_prepare_ligand_** functions on their own. As a result, obtaining proper PDBQT files for AutoDock Vina has never been easier.\n",
    "\n",
    ">**Warning:** There is currently only one method for preparing a PDBQT file for a receptor. It is expected that new methods apart from AutoDock Tools executables will be included in the near future into Jupyter Dock."
   ]
  },
  {
   "cell_type": "code",
   "execution_count": 20,
   "metadata": {},
   "outputs": [
    {
     "name": "stdout",
     "output_type": "stream",
     "text": [
      "/bin/sh: ../../bin/prepare_receptor: No such file or directory\r\n"
     ]
    }
   ],
   "source": [
    "!../../bin/prepare_receptor #Lauch this cell to see parameters"
   ]
  },
  {
   "cell_type": "code",
   "execution_count": null,
   "metadata": {},
   "outputs": [],
   "source": [
    "!../../bin/prepare_receptor -v -r 1AZ8_clean_H.pdb -o 1AZ8_clean_H.pdbqt"
   ]
  },
  {
   "cell_type": "markdown",
   "metadata": {},
   "source": [
    "### 4.2. Ligand preparation\n",
    "\n",
    "As previously discussed, one of the major challenges for proper docking experimentation is ligand preparation.\n",
    "\n",
    ">**Hint:** The hydroges in this example were set during the ligand sanitization step (section 2.2). As a result, the ligand will be prepared as is. Furthermore, before running the docking, it is highly recommended to inspect the ligand(s) after preparation to ensure proper structure and molecule features.\n",
    "\n",
    "#### Method 1: AutoDock Tools prepare_ligand"
   ]
  },
  {
   "cell_type": "code",
   "execution_count": null,
   "metadata": {},
   "outputs": [],
   "source": [
    "!../../bin/prepare_ligand #Launch this cell to see parameters"
   ]
  },
  {
   "cell_type": "code",
   "execution_count": null,
   "metadata": {},
   "outputs": [],
   "source": [
    "!../../bin/prepare_ligand -v -l 1AZ8_lig_H.mol2 -o 1AZ8_lig_H.pdbqt"
   ]
  },
  {
   "cell_type": "markdown",
   "metadata": {},
   "source": [
    "#### Method 2: Meeko\n",
    "\n",
    "This is the preferred method out of AutoDock Tools. Apart from ligand preparation, Meeko provides tools for other docking aspects that the AutoDock Tools software suite does not cover. Hydrated docking and macrocycles are two examples. More about Meeko https://pypi.org/project/meeko/\n",
    "\n",
    ">**Info**  To run Meeko change the next cell type from \"Markdown\" to \"Code\"."
   ]
  },
  {
   "cell_type": "markdown",
   "metadata": {},
   "source": [
    "```\n",
    "mol = obutils.load_molecule_from_file('1AZ8_lig_H.mol2')\n",
    "\n",
    "preparator = MoleculePreparation(merge_hydrogens=True,hydrate=False)\n",
    "preparator.prepare(mol)\n",
    "\n",
    "preparator.write_pdbqt_file('1AZ8_lig_H.pdbqt')\n",
    "```"
   ]
  },
  {
   "cell_type": "markdown",
   "metadata": {},
   "source": [
    "#### Method 3: Pybel\n",
    "\n",
    "OpenBabel (pybel) can handle a variety of file formats and conversions between them. As a result, any chemical format file can be converted directly to PDBQT. Nonetheless, pybel may encounter issues if the source file format contains errors. \n",
    "\n",
    ">**Info**  To run Pybel change the next cell type from \"Markdown\" to \"Code\"."
   ]
  },
  {
   "cell_type": "markdown",
   "metadata": {},
   "source": [
    "```\n",
    "ligand = [m for m in pybel.readfile(filename='1AZ8_lig_H.mol2',format='mol2')][0]\n",
    "out=pybel.Outputfile(filename='1AZ8_lig_H.pdbqt',format='pdbqt',overwrite=True)\n",
    "out.write(ligand)\n",
    "out.close()\n",
    "```"
   ]
  },
  {
   "cell_type": "markdown",
   "metadata": {},
   "source": [
    "### 4.3. Box definition\n",
    "\n",
    "This is possibly the most important feature of Jupyter Dock. Making a docking box without the use of a visualizer or any other additional tools. As a result, AutoDock Vina (and LeDock) can now be run entirely in a Jupyter notebook.\n",
    "\n",
    "Mengwu Xiao and his clever Pymol plug-in [\"GetBox\"](https://github.com/MengwuXiao/GetBox-PyMOL-Plugin) inspired the box definition in Jupyter Dock. \n",
    "\n",
    "Jupyter Dock makes use of Mengwu Xiao Pymol implementation, but this time through the Pymol API.\n",
    "\n",
    ">**Warning:** The function **_get_box()_** is built into the Pymol API. As a result, in order to compute the docking box, the docking system files must be initialized using Pymol.\n",
    "\n",
    ">**Hint:** The integration of **_get_box()_** as Pymol integration allows the definition of amazing boxes based on Pymol's powerful selection tools. A ligand, a residue, a set of residues, atom(s), pseudoatom(s), and any custom selection valid within the [Pymol selection algebra](https://pymolwiki.org/index.php/Selection_Algebra) can be used to set the box.  "
   ]
  },
  {
   "cell_type": "markdown",
   "metadata": {},
   "source": [
    "**_get_box( params )_**\n",
    "\n",
    "params:\n",
    "\n",
    "   - **selection**: _str , pymol_selection_; The selection for docking box, can be atom, resn, resid, or any other pymol selection\n",
    "   \n",
    "   - **extending**: _float_; value to extend the boundaries of the selection\n",
    "   \n",
    "   - **software**: _str , 'vina','ledock', 'both'_ ; Depending on selected software the funtion will provide the box coordinates in vina, ledock, or both formats"
   ]
  },
  {
   "cell_type": "code",
   "execution_count": null,
   "metadata": {},
   "outputs": [],
   "source": [
    "cmd.load(filename='1AZ8_clean_H.pdb',format='pdb',object='prot')\n",
    "cmd.load(filename='1AZ8_lig_H.mol2',format='mol2',object='lig')\n",
    "\n",
    "center, size= getbox(selection='lig',extending=5.0,software='vina')\n",
    "\n",
    "cmd.delete('all')\n",
    "\n",
    "print(center,'\\n',size)"
   ]
  },
  {
   "cell_type": "markdown",
   "metadata": {},
   "source": [
    "### 4.4. Docking\n",
    "\n",
    "#### Method 1: vina\n",
    "\n",
    "AutoDock Vina 1.2.0, which was recently released, now allows AutoDock Vina to be executed using Python Bindings. Jupyter Dock takes advantage of this feature to make the docking protocol run entirely within a Jupyter notebook."
   ]
  },
  {
   "cell_type": "code",
   "execution_count": null,
   "metadata": {},
   "outputs": [],
   "source": [
    "v = Vina(sf_name='vina')\n",
    "\n",
    "v.set_receptor('1AZ8_clean_H.pdbqt')\n",
    "\n",
    "v.set_ligand_from_file('1AZ8_lig_H.pdbqt')\n",
    "\n",
    "v.compute_vina_maps(center=[center['center_x'], center['center_y'], center['center_z']], \n",
    "                    box_size=[size['size_x'], size['size_y'], size['size_z']])\n",
    "\n",
    "'''\n",
    "# Score the current pose\n",
    "energy = v.score()\n",
    "print('Score before minimization: %.3f (kcal/mol)' % energy[0])\n",
    "\n",
    "# Minimized locally the current pose\n",
    "energy_minimized = v.optimize()\n",
    "print('Score after minimization : %.3f (kcal/mol)' % energy_minimized[0])\n",
    "v.write_pose('1iep_ligand_minimized.pdbqt', overwrite=True)\n",
    "'''\n",
    "\n",
    "# Dock the ligand\n",
    "v.dock(exhaustiveness=10, n_poses=10)\n",
    "v.write_poses('1AZ8_lig_vina_out.pdbqt', n_poses=10, overwrite=True)"
   ]
  },
  {
   "cell_type": "markdown",
   "metadata": {
    "tags": []
   },
   "source": [
    "#### Metod 2: Smina\n",
    "\n",
    "Despite the presence of Python bindings in AutoDock Vina 1.2.0, other tools that incorporate AutoDock Vina allow for cool features such as custom score functions (smina), fast execution (qvina), and the use of wider boxes (qvina-w). Jupyter Dock can run such binaries in a notebook, giving users more options.\n",
    "\n",
    ">**Info:** The following cell contains an example of using smina to run the current docking example. However, the executable files for qvina and qvina-w are available in the Jupyter Dock repo's bin directory. As a result, the user can use such a tool by adding the necessary cells or replacing the current docking engine.\n",
    "\n",
    ">**Info** To run smina change the cell type from \"Markdown\" to \"Code\"."
   ]
  },
  {
   "cell_type": "code",
   "execution_count": null,
   "metadata": {},
   "outputs": [],
   "source": [
    "!../../bin/smina #Lauch this cell to see parameters"
   ]
  },
  {
   "cell_type": "markdown",
   "metadata": {},
   "source": [
    "##### Example \n",
    "```\n",
    "!../../bin/smina -r 1AZ8_clean_H.pdbqt -l 1AZ8_lig_H.pdbqt --center_x 31.859 --center_y 13.34 --center_z 17.065 --size_x 24.569 --size_y 18.12 --size_z 17.37 --exhaustiveness 8 --num_modes 5\n",
    "```"
   ]
  },
  {
   "cell_type": "markdown",
   "metadata": {},
   "source": [
    "### 4.5. PDBQT results file conversion to SDF\n",
    "\n",
    "Because of the unique characteristics of the PDBQT format, it may be difficult to visualize the results or perform other analyses after docking. As a result, Jupyter Dock automatically converts the PDFBQT format to the more common SDF format. The file conversion preserves the chemical properties of the compounds after they have been sanitized and prepared. Furthermore, the \"Pose\" and \"Score\" information is saved as a molecule attribute. Such data can be accessed directly in the file or via Pybel or RDKit.\n",
    "\n",
    "**_pdbqt_to_sdf ( params )_**\n",
    "\n",
    "params:\n",
    "\n",
    "- **pdbqt_file**: _str or path-like string_ ; pdbqt file to be converted, extension must be pdbqt\n",
    "- **output**: _str or path-like string_  ; output sdf file, extension must be sdf"
   ]
  },
  {
   "cell_type": "code",
   "execution_count": null,
   "metadata": {},
   "outputs": [],
   "source": [
    "pdbqt_to_sdf(pdbqt_file='1AZ8_lig_vina_out.pdbqt',output='1AZ8_lig_vina_out.sdf')"
   ]
  },
  {
   "cell_type": "markdown",
   "metadata": {},
   "source": [
    "### 4.6. 3D visualization of docking results\n",
    "\n",
    "As with the system visualization (section 3), the docking results can be inspected and compared to the reference structure (if exist). The ligand's \"Pose\" and \"Score\" information will also be displayed to show how acces to this molecule's attributes."
   ]
  },
  {
   "cell_type": "code",
   "execution_count": 1,
   "metadata": {},
   "outputs": [
    {
     "ename": "NameError",
     "evalue": "name 'py3Dmol' is not defined",
     "output_type": "error",
     "traceback": [
      "\u001b[0;31m---------------------------------------------------------------------------\u001b[0m",
      "\u001b[0;31mNameError\u001b[0m                                 Traceback (most recent call last)",
      "\u001b[0;32m<ipython-input-1-eb8fcfb7302f>\u001b[0m in \u001b[0;36m<module>\u001b[0;34m\u001b[0m\n\u001b[0;32m----> 1\u001b[0;31m \u001b[0mview\u001b[0m \u001b[0;34m=\u001b[0m \u001b[0mpy3Dmol\u001b[0m\u001b[0;34m.\u001b[0m\u001b[0mview\u001b[0m\u001b[0;34m(\u001b[0m\u001b[0;34m)\u001b[0m\u001b[0;34m\u001b[0m\u001b[0;34m\u001b[0m\u001b[0m\n\u001b[0m\u001b[1;32m      2\u001b[0m \u001b[0mview\u001b[0m\u001b[0;34m.\u001b[0m\u001b[0mremoveAllModels\u001b[0m\u001b[0;34m(\u001b[0m\u001b[0;34m)\u001b[0m\u001b[0;34m\u001b[0m\u001b[0;34m\u001b[0m\u001b[0m\n\u001b[1;32m      3\u001b[0m \u001b[0mview\u001b[0m\u001b[0;34m.\u001b[0m\u001b[0msetViewStyle\u001b[0m\u001b[0;34m(\u001b[0m\u001b[0;34m{\u001b[0m\u001b[0;34m'style'\u001b[0m\u001b[0;34m:\u001b[0m\u001b[0;34m'outline'\u001b[0m\u001b[0;34m,\u001b[0m\u001b[0;34m'color'\u001b[0m\u001b[0;34m:\u001b[0m\u001b[0;34m'black'\u001b[0m\u001b[0;34m,\u001b[0m\u001b[0;34m'width'\u001b[0m\u001b[0;34m:\u001b[0m\u001b[0;36m0.1\u001b[0m\u001b[0;34m}\u001b[0m\u001b[0;34m)\u001b[0m\u001b[0;34m\u001b[0m\u001b[0;34m\u001b[0m\u001b[0m\n\u001b[1;32m      4\u001b[0m \u001b[0;34m\u001b[0m\u001b[0m\n\u001b[1;32m      5\u001b[0m \u001b[0mview\u001b[0m\u001b[0;34m.\u001b[0m\u001b[0maddModel\u001b[0m\u001b[0;34m(\u001b[0m\u001b[0mopen\u001b[0m\u001b[0;34m(\u001b[0m\u001b[0;34m'1AZ8_clean_H.pdb'\u001b[0m\u001b[0;34m,\u001b[0m\u001b[0;34m'r'\u001b[0m\u001b[0;34m)\u001b[0m\u001b[0;34m.\u001b[0m\u001b[0mread\u001b[0m\u001b[0;34m(\u001b[0m\u001b[0;34m)\u001b[0m\u001b[0;34m,\u001b[0m\u001b[0mformat\u001b[0m\u001b[0;34m=\u001b[0m\u001b[0;34m'pdb'\u001b[0m\u001b[0;34m)\u001b[0m\u001b[0;34m\u001b[0m\u001b[0;34m\u001b[0m\u001b[0m\n",
      "\u001b[0;31mNameError\u001b[0m: name 'py3Dmol' is not defined"
     ]
    }
   ],
   "source": [
    "view = py3Dmol.view()\n",
    "view.removeAllModels()\n",
    "view.setViewStyle({'style':'outline','color':'black','width':0.1})\n",
    "\n",
    "view.addModel(open('1AZ8_clean_H.pdb','r').read(),format='pdb')\n",
    "Prot=view.getModel()\n",
    "Prot.setStyle({'cartoon':{'arrows':True, 'tubes':True, 'style':'oval', 'color':'white'}})\n",
    "view.addSurface(py3Dmol.VDW,{'opacity':0.6,'color':'white'})\n",
    "\n",
    "\n",
    "view.addModel(open('1AZ8_lig_H.mol2','r').read(),format='mol2')\n",
    "ref_m = view.getModel()\n",
    "ref_m.setStyle({},{'stick':{'colorscheme':'magentaCarbon','radius':0.2}})\n",
    "\n",
    "\n",
    "results=Chem.SDMolSupplier('1AZ8_lig_vina_out.sdf')\n",
    "\n",
    "p=Chem.MolToMolBlock(results[0],False)\n",
    "\n",
    "print('Reference: Magenta | Vina Pose: Cyan')\n",
    "print ('Pose: {} | Score: {}'.format(results[0].GetProp('Pose'),results[0].GetProp('Score')))\n",
    "\n",
    "view.addModel(p,'mol')\n",
    "x = view.getModel()\n",
    "x.setStyle({},{'stick':{'colorscheme':'cyanCarbon','radius':0.2}})\n",
    "\n",
    "view.zoomTo()\n",
    "view.show()"
   ]
  },
  {
   "cell_type": "markdown",
   "metadata": {},
   "source": [
    "### 4.7. 2D interaction table and map\n",
    "\n",
    "Inspecting the molecular interactions is one of the most common analyses performed by a computational scientist following a docking experiment. As a result, Jupyter Dock uses ProLif to create a table of ligand-protein molecular interactions as well as the corresponding 2D map.\n",
    "\n",
    ">**Info:** ProLif uses RDKit and MDAnalysis to map the molecular interaction between a ligand and a protein. As a result, some protein preparations, including the use of LePro, can result in errors that impede analysis. Jupyter Dock's _**fix protein()_** function can be used to avoid such errors and provide a suitable protein structure for the analysis."
   ]
  },
  {
   "cell_type": "code",
   "execution_count": null,
   "metadata": {},
   "outputs": [],
   "source": [
    "fix_protein(filename='1AZ8_clean.pdb',addHs_pH=7.4,try_renumberResidues=True,output='1AZ8_clean_H_fix.pdb')"
   ]
  },
  {
   "cell_type": "code",
   "execution_count": null,
   "metadata": {},
   "outputs": [],
   "source": [
    "# load protein\n",
    "prot = mda.Universe(\"1AZ8_clean_H_fix.pdb\")\n",
    "prot = prolif.Molecule.from_mda(prot)\n",
    "prot.n_residues\n",
    "\n",
    "# load ligands\n",
    "lig_suppl = list(prolif.sdf_supplier('1AZ8_lig_vina_out.sdf'))\n",
    "# generate fingerprint\n",
    "fp = prolif.Fingerprint()\n",
    "fp.run_from_iterable(lig_suppl, prot)\n",
    "results_df = fp.to_dataframe(return_atoms=True)\n",
    "results_df"
   ]
  },
  {
   "cell_type": "code",
   "execution_count": null,
   "metadata": {},
   "outputs": [],
   "source": [
    "net = LigNetwork.from_ifp(results_df,lig_suppl[0],kind=\"frame\", frame=0,rotation=270)\n",
    "net.display()"
   ]
  },
  {
   "cell_type": "markdown",
   "metadata": {},
   "source": [
    "## 5. Docking with LeDock\n",
    "\n",
    "LeDock is designed for fast and accurate flexible docking of small molecules into a protein. It achieves a pose-prediction accuracy of greater than 90% on the Astex diversity set and takes about 3 seconds per run for a drug-like molecule. It has led to the discovery of novel kinase inhibitors and bromodomain antagonists from high-throughput virtual screening campaigns. It directly uses SYBYL Mol2 format as input for small molecules.\n",
    "\n",
    "### 5.1 Receptor preparation\n",
    "\n",
    "In LeDock, the input file for a receptor is a PDB file with explicit hydrogens in all residues. LePro was created as a tool for preparing protein structures for docking with LeDock. Thus, at this stage, we can use the file ater sanitization steps as well as a protein structure from Jupyter Dock's _**fix_protein()**_ function.\n",
    "\n",
    "### 5.2. Ligand preparation\n",
    "\n",
    "As previously stated, the input format for ligand in LeDock is MOL2. Similarly to the receptor preparation, we can use the ligand directly after sanitization. \n",
    "\n",
    "### 5.3. Docking box definition\n",
    "\n",
    "This step can be completed in the same manner as the AutoDock Vina box definition. To obtain the identical box from AutoDock Vina docking but in LeDock format, the user only needs to change the parameter \"software\" from \"vina\" to \"ledock.\" \n",
    "\n",
    ">**Info:** The implementation of the _**get_box()**_ function allows for the easy replication of binding sites between AutoDock Vina and LeDock, with the goal of replicating and comparing results between both programs."
   ]
  },
  {
   "cell_type": "code",
   "execution_count": null,
   "metadata": {},
   "outputs": [],
   "source": [
    "cmd.load(filename='1AZ8_clean_H.pdb',format='pdb',object='prot')\n",
    "cmd.load(filename='1AZ8_lig_H.mol2',format='mol2',object='lig')\n",
    "\n",
    "X,Y,Z= getbox(selection='lig',extending=5.0,software='ledock')\n",
    "cmd.delete('all')\n",
    "\n",
    "print(X,'\\n',Y,'\\n',Z)"
   ]
  },
  {
   "cell_type": "markdown",
   "metadata": {},
   "source": [
    "### 5.4. Docking\n",
    "\n",
    "To run LeDock, a configuration (commonly known as dock.in) file containing all docking parameters as well as information about the receptor and ligand(s) to dock is required. Jupyter Dock uses the function _**generate ledock file()**_ to generate the configuration file automatically. After configuring the parameters, the user will receive a configuration file as well as a file containing a list of ligand(s) to dock (commonly named ligand.list). After this, docking would be as simple as launching the LeDock executable and the configuration file as parameter.\n",
    "\n",
    "**_generate_ledock_file( params )_**\n",
    "\n",
    "params:\n",
    "\n",
    "- **receptor**: _str or path-like string_ ; protein file for docking including hydrogens, format must be pdb \n",
    "- **x**: _2 element list of floats [ float , float ]_; Xmin and Xmax coordinates of docking box\n",
    "- **y**:  _2 element list of floats [ float , float ]_; Ymin and Ymax coordinates of docking box\n",
    "- **z**:  _2 element list of floats [ float , float ]_; Zmin and Zmax coordinates of docking box\n",
    "- **n_poses**: _float_ ; n_of poses to retrieve from docking \n",
    "- **rmsd**: _float_ ; minimum RMSD diference between docking poses \n",
    "- **l_list**: _list of n strings or path-like strings [ lig1, lig2, lig3 ... ] ; list of ligands or ligands paths to dock \n",
    "- **l_list_outfile**: _str or path-like string_ ; filename to save the ligand list, needed for ledock to locate ligands\n",
    "- **out**: _str or path-like string_ ; outfile to save docking paramemeters, needed to launch the docking"
   ]
  },
  {
   "cell_type": "code",
   "execution_count": null,
   "metadata": {},
   "outputs": [],
   "source": [
    "generate_ledock_file(receptor='1AZ8_clean_H.pdb',x=[X['minX'],X['maxX']],\n",
    "                     y=[Y['minY'],Y['maxY']],\n",
    "                     z=[Z['minZ'],Z['maxZ']],\n",
    "                     n_poses=10,\n",
    "                     rmsd=1.0,\n",
    "                     l_list='1AZ8_lig_H.mol2', \n",
    "                     l_list_outfile='ledock_ligand.list1',\n",
    "                     out='dock.in')"
   ]
  },
  {
   "cell_type": "code",
   "execution_count": null,
   "metadata": {},
   "outputs": [],
   "source": [
    "!../../bin/ledock_linux_x86 #Launch this cell to see parameters"
   ]
  },
  {
   "cell_type": "code",
   "execution_count": null,
   "metadata": {},
   "outputs": [],
   "source": [
    "!../../bin/ledock_linux_x86 dock.in"
   ]
  },
  {
   "cell_type": "markdown",
   "metadata": {},
   "source": [
    "### 5.5. DOK results file conversion to SDF\n",
    "\n",
    "The end result of LeDock is a file with the dok extension that contains the docking properties in the same way that a pdb file does. Nonetheless, the dok file is not a widely used format for representing chemical structures. As a result, Jupyter Dock can convert dok files to the widely used sdf format. Jupyter Dock, like in the pdbqt to sdf conversion, will preserve the chemical features and save the \"Pose\" and \"Score\" results as molecule attributes.\n",
    "\n",
    "**_dok_to_sdf ( params )_**\n",
    "\n",
    "params:\n",
    "\n",
    "   - **dok_file**: _str or path-like_ ; dok file from ledock docking\n",
    "\n",
    "   - **output**: _str or path-like_ ; out file from ledock docking, extension must be sdf"
   ]
  },
  {
   "cell_type": "code",
   "execution_count": null,
   "metadata": {},
   "outputs": [],
   "source": [
    "dok_to_sdf(dok_file='1AZ8_lig_H.dok',output='1AZ8_lig_ledock_out.sdf')"
   ]
  },
  {
   "cell_type": "markdown",
   "metadata": {},
   "source": [
    "### 5.6. 3D visualization of docking results\n",
    "\n",
    "As with the system visualization (section 3), the docking results can be inspected and compared to the reference structure (if exist). The ligand's \"Pose\" and \"Score\" information will also be displayed to show how acces to this molecule's attributes."
   ]
  },
  {
   "cell_type": "code",
   "execution_count": null,
   "metadata": {},
   "outputs": [],
   "source": [
    "view = py3Dmol.view()\n",
    "view.removeAllModels()\n",
    "view.setViewStyle({'style':'outline','color':'black','width':0.1})\n",
    "\n",
    "view.addModel(open('1AZ8_clean_H.pdb','r').read(),format='pdb')\n",
    "Prot=view.getModel()\n",
    "Prot.setStyle({'cartoon':{'arrows':True, 'tubes':True, 'style':'oval', 'color':'white'}})\n",
    "view.addSurface(py3Dmol.VDW,{'opacity':0.6,'color':'white'})\n",
    "\n",
    "\n",
    "view.addModel(open('1AZ8_lig_H.mol2','r').read(),format='mol2')\n",
    "ref_m = view.getModel()\n",
    "ref_m.setStyle({},{'stick':{'colorscheme':'magentaCarbon','radius':0.2}})\n",
    "\n",
    "results=Chem.SDMolSupplier('1AZ8_lig_ledock_out.sdf')\n",
    "\n",
    "\n",
    "p=Chem.MolToMolBlock(results[0])\n",
    "\n",
    "print('Reference: Magenta | LeDock Pose: Cyan')\n",
    "print ('Pose: {} | Score: {}'.format(results[0].GetProp('Pose'),results[0].GetProp('Score')))\n",
    "\n",
    "view.addModel(p,'mol')\n",
    "x = view.getModel()\n",
    "x.setStyle({},{'stick':{'colorscheme':'cyanCarbon','radius':0.2}})\n",
    "\n",
    "view.zoomTo()\n",
    "view.show()"
   ]
  },
  {
   "cell_type": "markdown",
   "metadata": {},
   "source": [
    "### 5.7. 2D interaction table and map\n",
    "\n",
    "Inspecting the molecular interactions is one of the most common analyses performed by a computational scientist following a docking experiment. As a result, Jupyter Dock uses ProLif to create a table of ligand-protein molecular interactions as well as the corresponding 2D map.\n",
    "\n",
    "> **Info:** ProLif uses RDKit and MDAnalysis to map the molecular interaction between a ligand and a protein. As a result, some protein preparations, including the use of LePro, can result in errors that impede analysis. Jupyter Dock's _fix protein()_ function can be used to avoid such errors and provide a suitable protein structure for the analysis."
   ]
  },
  {
   "cell_type": "code",
   "execution_count": null,
   "metadata": {},
   "outputs": [],
   "source": [
    "# load protein\n",
    "prot = mda.Universe(\"1AZ8_clean_H_fix.pdb\",guess_bonds=True)\n",
    "prot = plf.Molecule.from_mda(prot)\n",
    "prot.n_residues\n",
    "\n",
    "# load ligands\n",
    "path = str('1AZ8_lig_ledock_out.sdf')\n",
    "lig_suppl = list(plf.sdf_supplier(path))\n",
    "# generate fingerprint\n",
    "fp = plf.Fingerprint()\n",
    "fp.run_from_iterable(lig_suppl, prot)\n",
    "results_df = fp.to_dataframe(return_atoms=True)\n",
    "results_df"
   ]
  },
  {
   "cell_type": "code",
   "execution_count": null,
   "metadata": {},
   "outputs": [],
   "source": [
    "net = LigNetwork.from_ifp(results_df,lig_suppl[0],kind=\"frame\", frame=0,rotation=270)\n",
    "net.display()"
   ]
  }
 ],
 "metadata": {
  "kernelspec": {
   "display_name": "Docking",
   "language": "python",
   "name": "docking"
  },
  "language_info": {
   "codemirror_mode": {
    "name": "ipython",
    "version": 3
   },
   "file_extension": ".py",
   "mimetype": "text/x-python",
   "name": "python",
   "nbconvert_exporter": "python",
   "pygments_lexer": "ipython3",
   "version": "3.8.2"
  }
 },
 "nbformat": 4,
 "nbformat_minor": 5
}
